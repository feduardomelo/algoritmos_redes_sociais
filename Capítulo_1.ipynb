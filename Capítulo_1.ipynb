{
  "nbformat": 4,
  "nbformat_minor": 0,
  "metadata": {
    "colab": {
      "name": "Capítulo 1.ipynb",
      "provenance": []
    },
    "kernelspec": {
      "name": "python3",
      "display_name": "Python 3"
    }
  },
  "cells": [
    {
      "cell_type": "markdown",
      "metadata": {
        "id": "Cu4WoqK9LNwU"
      },
      "source": [
        "\n",
        "\n",
        "# Construindo um algoritmo de recomendação em pequena escala com Python\n",
        "\n",
        "<p align=\"center\">\n",
        "    <img src=\"imgs/1032.jpg\" width=700px >\n",
        "</p>\n",
        "<a href='https://br.freepik.com/vetores/bandeira'>Bandeira vetor criado por fullvector - br.freepik.com</a>\n",
        "\n",
        "Já é senso comum que as Redes Sociais possuem algoritmos de recomendação que, ao mapear nossas preferências, nos indicam pessoas e assuntos que possuem uma alta chance de ser de nosso interesse. Contudo, o que poucos sabem é como esses sistemas funcionam por baixo dos panos. Pensando nisso, vamos construir alguns desses algoritmos, em pequena escala, auxiliados pelo primeiro capítulo do livro *Data Science do Zero, do autor Joel Grus*.\n",
        "\n",
        "- - - \n",
        "# Motivação Hipotética: DataSciencester\n",
        "O livro inicia com uma excelente motivação, a de ser contratado pela ***DataSciencester***, a Rede Social dos Cientistas de Dados. \n",
        "\n",
        "Logo no seu primeiro dia de trabalho o seu chefe te dá as boas-vindas com um belo de um problema para ser resolvido.\n",
        "\n",
        "\"Quero saber quem são os usuários mais populares de nossa plataforma\"\n",
        "\n",
        "Para te ajudar, ele te encaminha duas listas. A primeira com todos os usuários ativos e a segunda com tuplas que indicam amizades entre os cientistas, representada pelos seus respectivos IDs."
      ]
    },
    {
      "cell_type": "code",
      "metadata": {
        "id": "fRHSwZTZMb5A"
      },
      "source": [
        "users = [ \n",
        "         {\"id\": 0, \"name\": \"Hero\"},\n",
        "         {\"id\": 1, \"name\": \"Dunn\"},\n",
        "         {\"id\": 2, \"name\": \"Sue\"},\n",
        "         {\"id\": 3, \"name\": \"Chi\"},\n",
        "         {\"id\": 4, \"name\": \"Thor\"},\n",
        "         {\"id\": 5, \"name\": \"Clive\"},\n",
        "         {\"id\": 6, \"name\": \"Hicks\"},\n",
        "         {\"id\": 7, \"name\": \"Devin\"},\n",
        "         {\"id\": 8, \"name\": \"Kate\"},\n",
        "         {\"id\": 9, \"name\": \"Klein\"}\n",
        "]\n",
        "\n",
        "friendships = [(0,1),(0,2),(1,2),(1,3),(2,3),(3,4),\n",
        "              (4,5),(5,6), (5,7), (6,8), (7,8), (8,9)]\n",
        "          # A tupla(0,1) indica que o cientista de dados com id 0(Hero)\n",
        "          # é amigo do com id 1(Dunn)"
      ],
      "execution_count": 5,
      "outputs": []
    },
    {
      "cell_type": "markdown",
      "metadata": {
        "id": "gq368jilOJnw"
      },
      "source": [
        "Por maior que seja a tentação de ir manipulando o código, vamos nos questionar sobre o problema. Este é um passo necessário, pular ele provavelmente implicará em retrabalho.\n",
        "- O que significa um usuário ser popular para a plataforma? Ou melhor, como podemos medir a popularidade?\n",
        "- Uma forma de indicar isso é pelo número de conexões que cada usuário possui, aqueles que possuem mais conexões são os mais \"populares\", ou seja, os mais relevantes para a plataforma. "
      ]
    },
    {
      "cell_type": "markdown",
      "metadata": {
        "id": "xgR5Gksjh0Tt"
      },
      "source": [
        "Para descobrir o número de conexões de cada usuário, vamos criar uma lista de amigos para cada usuário na lista acima(**Passo 1**), a fim de calcular o número médio de conexões dos usuários(**Passo 2**) e , por fim, elencar uma lista com a quantidade de conexões que cada usuário possui(**Passo 3**)."
      ]
    },
    {
      "cell_type": "markdown",
      "metadata": {
        "id": "BgA_e5OEjvOk"
      },
      "source": [
        "### Passo 1 - Criando uma lista de amigos para cada usuário na lista acima"
      ]
    },
    {
      "cell_type": "code",
      "metadata": {
        "id": "d0amNQx_OH3f"
      },
      "source": [
        "# Cada usuário está recebendo uma lista de amigos vazia.\n",
        "for user in users: \n",
        "  user[\"friends\"] = []\n",
        "\n",
        "# Vamos povoar a lista com dados de friendships\n",
        "for i, j in friendships:\n",
        "  users[i][\"friends\"].append(users[j])# adiciona j como amigo de i\n",
        "  users[j][\"friends\"].append(users[i])# adiciona i como amigo de j"
      ],
      "execution_count": 6,
      "outputs": []
    },
    {
      "cell_type": "markdown",
      "metadata": {
        "id": "XcoMTI_uj66o"
      },
      "source": [
        "### Passo 2 - Calculando o número médio de conexões"
      ]
    },
    {
      "cell_type": "code",
      "metadata": {
        "id": "BHDgfxvMPjGM"
      },
      "source": [
        "def number_of_friends(user):\n",
        "  # quantos amigos o usuário tem?\n",
        "  return len(user[\"friends\"])\n",
        "\n",
        "total_connections = sum(number_of_friends(user) for user in users)  # 24\n",
        " \n",
        "num_users = len(users)  # tamanho da lista de usuários\n",
        "avg_connections = total_connections / num_users  # 2.4 = Valor médio de conexões\n",
        " "
      ],
      "execution_count": 9,
      "outputs": []
    },
    {
      "cell_type": "markdown",
      "metadata": {
        "id": "4Ei_tkITVrPm"
      },
      "source": [
        "### Passo 3 - Encontrando as pessoas mais conectadas\n",
        "São as que possuem o maior número de amigos."
      ]
    },
    {
      "cell_type": "code",
      "metadata": {
        "colab": {
          "base_uri": "https://localhost:8080/"
        },
        "id": "Rbh3OUU9UtHS",
        "outputId": "43299087-9857-4328-d83a-498d8252fc9f"
      },
      "source": [
        "num_friends_by_id = [(user[\"id\"], number_of_friends(user)) \n",
        "                      for user in users]\n",
        "sorted(num_friends_by_id, key=lambda tup: tup[1], reverse = True ) #ordenando tuplas com base no segundo elemento(posição 1)\n",
        "# A primeira posição é o ID do usuário e a segunda a quantidade de amigos.\n"
      ],
      "execution_count": 10,
      "outputs": [
        {
          "output_type": "execute_result",
          "data": {
            "text/plain": [
              "[(1, 3),\n",
              " (2, 3),\n",
              " (3, 3),\n",
              " (5, 3),\n",
              " (8, 3),\n",
              " (0, 2),\n",
              " (4, 2),\n",
              " (6, 2),\n",
              " (7, 2),\n",
              " (9, 1)]"
            ]
          },
          "metadata": {
            "tags": []
          },
          "execution_count": 10
        }
      ]
    },
    {
      "cell_type": "markdown",
      "metadata": {
        "id": "7sQ5mZfKKquK"
      },
      "source": [
        "O user de id 1 possui 3 amigos, o de id 0 possui 2, etc.\n",
        "- - -\n",
        "\n",
        "Nosso problema foi resolvido, mas, como queremos impressionar o chefe, vamos entregar algo mais. Vamos implementar na *DataSciencester* a funcionalidade ***Cientistas de Dados que talvez você conheça***.\n",
        "\n",
        "Para isso, vamos criar uma função que nos retorne os amigos de cada usuário."
      ]
    },
    {
      "cell_type": "code",
      "metadata": {
        "id": "WBNWxEfoXZA1",
        "colab": {
          "base_uri": "https://localhost:8080/"
        },
        "outputId": "7d9967e8-baea-4bfa-ec58-52dcb48ad259"
      },
      "source": [
        "def friends_of_friend_ids_bad(user):\n",
        "  return [ foaf[\"id\"] ##foaf é uma abreviatura para friends of friends\n",
        "          for friend in user[\"friends\"]\n",
        "          for foaf in friend[\"friends\"]]\n",
        "          \n",
        "friends_of_friend_ids_bad(users[0])"
      ],
      "execution_count": 11,
      "outputs": [
        {
          "output_type": "execute_result",
          "data": {
            "text/plain": [
              "[0, 2, 3, 0, 1, 3]"
            ]
          },
          "metadata": {
            "tags": []
          },
          "execution_count": 11
        }
      ]
    },
    {
      "cell_type": "markdown",
      "metadata": {
        "id": "bwVpt3aRKukf"
      },
      "source": [
        "Não pareceu tão eficiente, pois ao checar os amigos do usuário 0 repetiu-se alguns Ids, inclusive o próprio 0.\n",
        "\n",
        "Vamos então refinar o código.\n"
      ]
    },
    {
      "cell_type": "code",
      "metadata": {
        "colab": {
          "base_uri": "https://localhost:8080/"
        },
        "id": "LKGCLeS6KbXw",
        "outputId": "f0519304-f88a-4d99-b8bf-3fe2dd776548"
      },
      "source": [
        "from collections import Counter\n",
        "\n",
        "def not_the_same(user, other_user):\n",
        "  # dois usuários não são o mesmo se possuem ids diferentes\n",
        "  return user[\"id\"] != other_user[\"id\"]\n",
        "\n",
        "def not_friends(user, other_user):\n",
        "  # other_user não é um amigo se não está em user[\"friends\"]:\n",
        "  # isto é, se não é not_the_same com todas as pessoas em user[\"friends\"]\n",
        "  return all (not_the_same(friend, other_user)\n",
        "              for friend in user[\"friends\"])\n",
        "\n",
        "def friends_of_friend_ids(user):\n",
        "  return Counter( foaf[\"id\"]\n",
        "                 for friend in user[\"friends\"]\n",
        "                 for foaf in friend[\"friends\"]\n",
        "                 if not_the_same(user, foaf)\n",
        "                 and not_friends(user, foaf))\n",
        "  \n",
        "print(friends_of_friend_ids(users[3])) "
      ],
      "execution_count": 13,
      "outputs": [
        {
          "output_type": "stream",
          "text": [
            "Counter({0: 2, 5: 1})\n"
          ],
          "name": "stdout"
        }
      ]
    },
    {
      "cell_type": "markdown",
      "metadata": {
        "id": "S-SZITXJRu8A"
      },
      "source": [
        "O usuário de id 3 tem dois amigos em comum com 0 e um com 5."
      ]
    },
    {
      "cell_type": "markdown",
      "metadata": {
        "id": "5-R6TB3lnNJ0"
      },
      "source": [
        "### Agora que o negócio vai ficar bom\n",
        "Seu chefe gostou tanto do seu trabalho, que, antes de finalizar o dia, ele te pediu para fazer um Algoritmo para ***Identificar Usuários com Interesses semelhantes***\n",
        "\n",
        "Depois de perguntar por aí, você conseguiu pôr a mão nos dados de interesses de cada usuário. Eles estão ordenados como uma lista de pares(user_id, interest):"
      ]
    },
    {
      "cell_type": "code",
      "metadata": {
        "id": "BrY96GPhRtOc"
      },
      "source": [
        "interests = [\n",
        "(0, \"Hadoop\"), (0, \"Big Data\"), (0, \"HBase\"), (0, \"Java\"),\n",
        "(0, \"Spark\"), (0, \"Storm\"), (0, \"Cassandra\"),\n",
        "(1, \"NoSQL\"), (1, \"MongoDB\"), (1, \"Cassandra\"), (1, \"HBase\"),\n",
        "(1, \"Postgres\"), (2, \"Python\"), (2, \"scikit-learn\"), (2, \"scipy\"),\n",
        "(2, \"numpy\"), (2, \"statsmodels\"), (2, \"pandas\"), (3, \"R\"), (3, \"Python\"),\n",
        "(3, \"statistics\"), (3, \"regression\"), (3, \"probability\"),\n",
        "(4, \"machine learning\"), (4, \"regression\"), (4, \"decision trees\"),\n",
        "(4, \"libsvm\"), (5, \"Python\"), (5, \"R\"), (5, \"Java\"), (5, \"C++\"),\n",
        "(5, \"Haskell\"), (5, \"programming languages\"), (6, \"statistics\"),\n",
        "(6, \"probability\"), (6, \"mathematics\"), (6, \"theory\"),\n",
        "(7, \"machine learning\"), (7, \"scikit-learn\"), (7, \"Mahout\"),\n",
        "(7, \"neural networks\"), (8, \"neural networks\"), (8, \"deep learning\"),\n",
        "(8, \"Big Data\"), (8, \"artificial intelligence\"), (9, \"Hadoop\"),\n",
        "(9, \"Java\"), (9, \"MapReduce\"), (9, \"Big Data\")\n",
        "]\n"
      ],
      "execution_count": 14,
      "outputs": []
    },
    {
      "cell_type": "markdown",
      "metadata": {
        "id": "waVGyhFepbnC"
      },
      "source": [
        "É fácil construir uma função que encontre usuários com o mesmo interesse:"
      ]
    },
    {
      "cell_type": "code",
      "metadata": {
        "colab": {
          "base_uri": "https://localhost:8080/"
        },
        "id": "J6IvW8ktp96B",
        "outputId": "314c9a58-2906-407f-d9fd-c253c8ce4d8f"
      },
      "source": [
        "\n",
        "def data_scientists_who_like(target_interest): \n",
        "  return[ user_id\n",
        "            for user_id, user_interest in interests\n",
        "            if user_interest == target_interest]\n",
        "print(data_scientists_who_like(\"Big Data\"))"
      ],
      "execution_count": 16,
      "outputs": [
        {
          "output_type": "stream",
          "text": [
            "[0, 8, 9]\n"
          ],
          "name": "stdout"
        }
      ]
    },
    {
      "cell_type": "markdown",
      "metadata": {
        "id": "kHs7e8cDUKA2"
      },
      "source": [
        "Funciona, mas não é tão eficiente porque a lista inteira deve ser examinada a cada busca. Imagina só o trabalhão que daria numa lista com milhões de usuários e interesses. A empresa não iria gostar do custo computacional e financeiro gerado."
      ]
    },
    {
      "cell_type": "markdown",
      "metadata": {
        "id": "ggyq8sq5qzzw"
      },
      "source": [
        "Por isso, seria melhor construir um índice de interesses para usuários:"
      ]
    },
    {
      "cell_type": "code",
      "metadata": {
        "id": "_7iJanGoUQVU"
      },
      "source": [
        "from collections import defaultdict\n",
        "\n",
        "# as chaves são os interesses, os valores são as listas de user_ids com esses interesses.\n",
        "users_ids_by_interest = defaultdict(list)\n",
        "\n",
        "for user_id, interest in interests:\n",
        "  users_ids_by_interest[interest].append(user_id)"
      ],
      "execution_count": 17,
      "outputs": []
    },
    {
      "cell_type": "markdown",
      "metadata": {
        "id": "WEEGEji4rSKD"
      },
      "source": [
        "E outra de usuários para interesses"
      ]
    },
    {
      "cell_type": "code",
      "metadata": {
        "id": "tU9vbRusrUwT"
      },
      "source": [
        "interests_by_users_id = defaultdict(list)\n",
        "\n",
        "for user_id, interest in interests:\n",
        "  interests_by_users_id[user_id].append(interest)"
      ],
      "execution_count": 25,
      "outputs": []
    },
    {
      "cell_type": "markdown",
      "metadata": {
        "id": "JS7o_tEFrzrt"
      },
      "source": [
        "Agora fica fácil descobrir quem possui os maiores interesses em comum com um certo usuário:\n",
        "- Itera sobre os interesses do usuário\n",
        "- Para cada interesse, itera sobre os outros usuários com aquele interesse\n",
        "- Mantém a contagem de quantas vezes vemos cada outro usuário"
      ]
    },
    {
      "cell_type": "code",
      "metadata": {
        "colab": {
          "base_uri": "https://localhost:8080/"
        },
        "id": "NS_XTXwXsPvj",
        "outputId": "04180fc9-d734-45a7-ccf2-8ad22a3abde8"
      },
      "source": [
        "def most_common_interests_with(user):\n",
        "  return Counter(interested_user_id\n",
        "                 for interest in interests_by_users_id[user[\"id\"]]\n",
        "                 for interested_user_id in users_ids_by_interest[interest]\n",
        "                 if interested_user_id != user[\"id\"])\n",
        "  \n",
        "  \n",
        "most_common_interests_with(users[5])"
      ],
      "execution_count": 27,
      "outputs": [
        {
          "output_type": "execute_result",
          "data": {
            "text/plain": [
              "Counter({0: 1, 2: 1, 3: 2, 9: 1})"
            ]
          },
          "metadata": {
            "tags": []
          },
          "execution_count": 27
        }
      ]
    },
    {
      "cell_type": "markdown",
      "metadata": {
        "id": "XLQfgGF2tru4"
      },
      "source": [
        "O usuário 5 possui dois interesses em comum com o usuário 3. Possui 1 interesse em comum com 0, com 2 e com 9."
      ]
    },
    {
      "cell_type": "markdown",
      "metadata": {
        "id": "qMLnGeaVumRP"
      },
      "source": [
        "Com base nisso, poderia ser criada a funcionalidade: **Cientistas de Dados que você deveria conhecer**."
      ]
    },
    {
      "cell_type": "markdown",
      "metadata": {
        "id": "ykgLRg_zuzzH"
      },
      "source": [
        "### Considerações Finais:\n",
        "\n",
        "O presente artigo foi baseado no Capítulo 1 do livro Data Science do Zero, do autor Joel Grus, ele foi usado como fonte principal de contextualização e de códigos.\n",
        "\n",
        "Você tem alguma observação sobre alguma funcionalidade que eu poderia usar? Ou uma boa prática que eu não levei em consideração? Ficarei feliz em ler essas observações aqui nos comentários."
      ]
    }
  ]
}